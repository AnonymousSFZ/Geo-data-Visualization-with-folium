{
 "cells": [
  {
   "cell_type": "code",
   "execution_count": 79,
   "metadata": {},
   "outputs": [
    {
     "name": "stdout",
     "output_type": "stream",
     "text": [
      "SUCCESS: Check for plot_data.html\n"
     ]
    },
    {
     "data": {
      "text/html": [
       "\n",
       "        <iframe\n",
       "            width=\"700\"\n",
       "            height=\"450\"\n",
       "            src=\"plot_data.html\"\n",
       "            frameborder=\"0\"\n",
       "            allowfullscreen\n",
       "        ></iframe>\n",
       "        "
      ],
      "text/plain": [
       "<IPython.lib.display.IFrame at 0x2848e89b358>"
      ]
     },
     "metadata": {},
     "output_type": "display_data"
    }
   ],
   "source": [
    "import folium\n",
    "import pandas as pd\n",
    "\n",
    "USE_JUPYTER_NB   = True\n",
    "VERBOSE          = False\n",
    "SUPPRESS_WARNING = True\n",
    "\n",
    "# Suppress Future Warning\n",
    "if SUPPRESS_WARNING:\n",
    "    import warnings\n",
    "    warnings.simplefilter(action='ignore', category=FutureWarning)\n",
    "\n",
    "# Import Dataset and Map\n",
    "country_geo = 'world-countries.json'\n",
    "data = pd.read_csv('Indicators.csv')\n",
    "\n",
    "# Dataset Overview\n",
    "if VERBOSE:\n",
    "    countries = data['CountryName'].unique().tolist()\n",
    "    indicators = data['IndicatorName'].unique().tolist()\n",
    "    print('Head of dataset:', data.head(), sep='\\n', end='\\n\\n')\n",
    "    print('Number of Countries: ', len(countries), sep='\\n', end='\\n\\n')\n",
    "    print('Indicator Name:', len(indicators), sep='\\n', end='\\n\\n')\n",
    "\n",
    "# Data Selection\n",
    "hist_indicator =  'Life expectancy at birth'\n",
    "hist_year = 2013\n",
    "mask1 = data['IndicatorName'].str.contains(hist_indicator) \n",
    "mask2 = data['Year'].isin([hist_year])\n",
    "stage = data[mask1 & mask2]\n",
    "data_to_plot = stage[['CountryCode','Value']]\n",
    "if VERBOSE:\n",
    "    print('Data to plot:', data_to_plot.head(), sep='\\n',end='\\n\\n')\n",
    "\n",
    "# Map Plot\n",
    "hist_indicator = stage.iloc[0]['IndicatorName']\n",
    "map = folium.Map(location=[100, 0], zoom_start=1.5)\n",
    "# Bing Map with country_geo(.json)\n",
    "map.choropleth(geo_data=country_geo, data=data_to_plot,\n",
    "             columns=['CountryCode', 'Value'],\n",
    "             key_on='feature.id',\n",
    "             fill_color='YlGnBu', fill_opacity=0.7, line_opacity=0.2,\n",
    "             legend_name=hist_indicator)\n",
    "# Convert Folium plot to HTML\n",
    "map.save('plot_data.html') \n",
    "print('SUCCESS: Check for plot_data.html')\n",
    "\n",
    "# Use IFrame to display HTML\n",
    "if USE_JUPYTER_NB:\n",
    "    from IPython.display import IFrame\n",
    "    display(IFrame('plot_data.html', width=700, height=450))"
   ]
  },
  {
   "cell_type": "code",
   "execution_count": 78,
   "metadata": {},
   "outputs": [
    {
     "data": {
      "text/html": [
       "\n",
       "        <iframe\n",
       "            width=\"700\"\n",
       "            height=\"450\"\n",
       "            src=\"plot_data.html\"\n",
       "            frameborder=\"0\"\n",
       "            allowfullscreen\n",
       "        ></iframe>\n",
       "        "
      ],
      "text/plain": [
       "<IPython.lib.display.IFrame at 0x2848c837d68>"
      ]
     },
     "metadata": {},
     "output_type": "display_data"
    }
   ],
   "source": [
    "display(IFrame('plot_data.html', width=700, height=450))"
   ]
  },
  {
   "cell_type": "code",
   "execution_count": null,
   "metadata": {},
   "outputs": [],
   "source": []
  }
 ],
 "metadata": {
  "kernelspec": {
   "display_name": "Python 3",
   "language": "python",
   "name": "python3"
  },
  "language_info": {
   "codemirror_mode": {
    "name": "ipython",
    "version": 3
   },
   "file_extension": ".py",
   "mimetype": "text/x-python",
   "name": "python",
   "nbconvert_exporter": "python",
   "pygments_lexer": "ipython3",
   "version": "3.7.1"
  }
 },
 "nbformat": 4,
 "nbformat_minor": 2
}
